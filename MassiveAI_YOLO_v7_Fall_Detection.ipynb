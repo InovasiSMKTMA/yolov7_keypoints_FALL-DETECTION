{
  "nbformat": 4,
  "nbformat_minor": 0,
  "metadata": {
    "colab": {
      "provenance": []
    },
    "kernelspec": {
      "name": "python3",
      "display_name": "Python 3"
    },
    "language_info": {
      "name": "python"
    },
    "accelerator": "GPU",
    "gpuClass": "standard"
  },
  "cells": [
    {
      "cell_type": "markdown",
      "source": [
        "Connect To Gdrive"
      ],
      "metadata": {
        "id": "lN8JitDQsp7a"
      }
    },
    {
      "cell_type": "code",
      "source": [
        "from google.colab import drive\n",
        "drive.mount(\"/content/gdrive\")"
      ],
      "metadata": {
        "colab": {
          "base_uri": "https://localhost:8080/"
        },
        "id": "V6AtvWj_uLU_",
        "outputId": "2d54c0a2-c068-4443-e5dd-7deaa269548e"
      },
      "execution_count": 1,
      "outputs": [
        {
          "output_type": "stream",
          "name": "stdout",
          "text": [
            "Mounted at /content/gdrive\n"
          ]
        }
      ]
    },
    {
      "cell_type": "markdown",
      "source": [
        "Go to gdrive folder"
      ],
      "metadata": {
        "id": "rJx-yJTNvhmB"
      }
    },
    {
      "cell_type": "code",
      "source": [
        "%cd /content/gdrive/MyDrive/"
      ],
      "metadata": {
        "colab": {
          "base_uri": "https://localhost:8080/"
        },
        "id": "mIzL4dGPupOI",
        "outputId": "c9587f03-683d-4c8d-b16d-39466421de08"
      },
      "execution_count": 2,
      "outputs": [
        {
          "output_type": "stream",
          "name": "stdout",
          "text": [
            "/content/gdrive/MyDrive\n"
          ]
        }
      ]
    },
    {
      "cell_type": "code",
      "source": [
        "!pwd"
      ],
      "metadata": {
        "colab": {
          "base_uri": "https://localhost:8080/"
        },
        "id": "GdKDY-Y4vH-r",
        "outputId": "80de9a07-91dd-48b4-87b2-cde139b30a4f"
      },
      "execution_count": 3,
      "outputs": [
        {
          "output_type": "stream",
          "name": "stdout",
          "text": [
            "/content/gdrive/MyDrive\n"
          ]
        }
      ]
    },
    {
      "cell_type": "code",
      "source": [
        "import os\n",
        "\n",
        "if not os.path.isdir(\"MassiveAI\"):\n",
        "  os.makedirs(\"MassiveAI\")"
      ],
      "metadata": {
        "id": "sXLHhpkqvT0T"
      },
      "execution_count": null,
      "outputs": []
    },
    {
      "cell_type": "code",
      "source": [
        "%cd MassiveAI"
      ],
      "metadata": {
        "colab": {
          "base_uri": "https://localhost:8080/"
        },
        "id": "dhtplB1dv6Nz",
        "outputId": "04baf30a-c07c-4323-ee0f-2658e0451ca0"
      },
      "execution_count": 4,
      "outputs": [
        {
          "output_type": "stream",
          "name": "stdout",
          "text": [
            "/content/gdrive/MyDrive/MassiveAI\n"
          ]
        }
      ]
    },
    {
      "cell_type": "code",
      "source": [
        "%cd yolov7"
      ],
      "metadata": {
        "colab": {
          "base_uri": "https://localhost:8080/"
        },
        "id": "FEWbW4X9wsUa",
        "outputId": "ba6c411a-3e56-4628-f0ec-d7cfd2b9d68d"
      },
      "execution_count": 5,
      "outputs": [
        {
          "output_type": "stream",
          "name": "stdout",
          "text": [
            "/content/gdrive/MyDrive/MassiveAI/yolov7\n"
          ]
        }
      ]
    },
    {
      "cell_type": "markdown",
      "source": [
        "Dwonload yolo pose"
      ],
      "metadata": {
        "id": "09LLq1zzvNMx"
      }
    },
    {
      "cell_type": "code",
      "source": [
        "!wget https://github.com/WongKinYiu/yolov7/releases/download/v0.1/yolov7-w6-pose.pt\n"
      ],
      "metadata": {
        "id": "w1rm5KQPi9em"
      },
      "execution_count": null,
      "outputs": []
    },
    {
      "cell_type": "markdown",
      "source": [
        "Install Telegram Bot Library"
      ],
      "metadata": {
        "id": "fRlpNubvvF7K"
      }
    },
    {
      "cell_type": "code",
      "source": [
        "!pip install telepot"
      ],
      "metadata": {
        "colab": {
          "base_uri": "https://localhost:8080/"
        },
        "id": "7QeIUyk2vCXE",
        "outputId": "14d72cc9-5c8c-431a-f6b2-9d118b329a4d"
      },
      "execution_count": 7,
      "outputs": [
        {
          "output_type": "stream",
          "name": "stdout",
          "text": [
            "Looking in indexes: https://pypi.org/simple, https://us-python.pkg.dev/colab-wheels/public/simple/\n",
            "Collecting telepot\n",
            "  Downloading telepot-12.7.tar.gz (73 kB)\n",
            "\u001b[2K     \u001b[90m━━━━━━━━━━━━━━━━━━━━━━━━━━━━━━━━━━━━━━━━\u001b[0m \u001b[32m73.1/73.1 KB\u001b[0m \u001b[31m5.2 MB/s\u001b[0m eta \u001b[36m0:00:00\u001b[0m\n",
            "\u001b[?25h  Preparing metadata (setup.py) ... \u001b[?25l\u001b[?25hdone\n",
            "Requirement already satisfied: urllib3>=1.9.1 in /usr/local/lib/python3.8/dist-packages (from telepot) (1.24.3)\n",
            "Requirement already satisfied: aiohttp>=3.0.0 in /usr/local/lib/python3.8/dist-packages (from telepot) (3.8.3)\n",
            "Requirement already satisfied: yarl<2.0,>=1.0 in /usr/local/lib/python3.8/dist-packages (from aiohttp>=3.0.0->telepot) (1.8.2)\n",
            "Requirement already satisfied: frozenlist>=1.1.1 in /usr/local/lib/python3.8/dist-packages (from aiohttp>=3.0.0->telepot) (1.3.3)\n",
            "Requirement already satisfied: multidict<7.0,>=4.5 in /usr/local/lib/python3.8/dist-packages (from aiohttp>=3.0.0->telepot) (6.0.4)\n",
            "Requirement already satisfied: aiosignal>=1.1.2 in /usr/local/lib/python3.8/dist-packages (from aiohttp>=3.0.0->telepot) (1.3.1)\n",
            "Requirement already satisfied: attrs>=17.3.0 in /usr/local/lib/python3.8/dist-packages (from aiohttp>=3.0.0->telepot) (22.2.0)\n",
            "Requirement already satisfied: async-timeout<5.0,>=4.0.0a3 in /usr/local/lib/python3.8/dist-packages (from aiohttp>=3.0.0->telepot) (4.0.2)\n",
            "Requirement already satisfied: charset-normalizer<3.0,>=2.0 in /usr/local/lib/python3.8/dist-packages (from aiohttp>=3.0.0->telepot) (2.1.1)\n",
            "Requirement already satisfied: idna>=2.0 in /usr/local/lib/python3.8/dist-packages (from yarl<2.0,>=1.0->aiohttp>=3.0.0->telepot) (2.10)\n",
            "Building wheels for collected packages: telepot\n",
            "  Building wheel for telepot (setup.py) ... \u001b[?25l\u001b[?25hdone\n",
            "  Created wheel for telepot: filename=telepot-12.7-py3-none-any.whl size=57961 sha256=880de51539df3a93ae5ded6766550a11464df8960a7bdfcd11a47c46a26efb2c\n",
            "  Stored in directory: /root/.cache/pip/wheels/0a/73/dd/75fa4fa1ea51bc3d2406f8862c5c5e703ebbf9f6bb059f302d\n",
            "Successfully built telepot\n",
            "Installing collected packages: telepot\n",
            "Successfully installed telepot-12.7\n"
          ]
        }
      ]
    },
    {
      "cell_type": "markdown",
      "source": [
        "Runnning the code"
      ],
      "metadata": {
        "id": "VbUWt-5fvKbh"
      }
    },
    {
      "cell_type": "code",
      "source": [
        "! python yolov7_pose_estimationvideo.py\n"
      ],
      "metadata": {
        "id": "SA-91FK6lxn-"
      },
      "execution_count": null,
      "outputs": []
    }
  ]
}